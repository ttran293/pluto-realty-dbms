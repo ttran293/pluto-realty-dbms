{
 "cells": [
  {
   "cell_type": "markdown",
   "metadata": {},
   "source": [
    "## QueryAll script\n",
    "### Query and reports for Project 1 \n",
    "#### Submitted by Student Thanh Nam Tran for CMSC461@UMBC (Fall '2020)\n",
    "\n"
   ]
  },
  {
   "cell_type": "code",
   "execution_count": 1,
   "metadata": {
    "scrolled": true
   },
   "outputs": [
    {
     "name": "stdout",
     "output_type": "stream",
     "text": [
      "Requirement already satisfied: mysql-connector-python in c:\\programdata\\anaconda3\\lib\\site-packages (8.0.21)\n",
      "Requirement already satisfied: protobuf>=3.0.0 in c:\\programdata\\anaconda3\\lib\\site-packages (from mysql-connector-python) (3.13.0)\n",
      "Requirement already satisfied: six>=1.9 in c:\\programdata\\anaconda3\\lib\\site-packages (from protobuf>=3.0.0->mysql-connector-python) (1.15.0)\n",
      "Requirement already satisfied: setuptools in c:\\programdata\\anaconda3\\lib\\site-packages (from protobuf>=3.0.0->mysql-connector-python) (49.2.0.post20200714)\n"
     ]
    }
   ],
   "source": [
    "!pip install mysql-connector-python"
   ]
  },
  {
   "cell_type": "code",
   "execution_count": 2,
   "metadata": {},
   "outputs": [],
   "source": [
    "import mysql.connector"
   ]
  },
  {
   "cell_type": "code",
   "execution_count": 3,
   "metadata": {},
   "outputs": [
    {
     "name": "stdout",
     "output_type": "stream",
     "text": [
      "Enter username········\n",
      "Enter password········\n"
     ]
    }
   ],
   "source": [
    "# get DB username and password from the standard input\n",
    "import getpass\n",
    "db_user = getpass.getpass('Enter username')\n",
    "db_password = getpass.getpass('Enter password')"
   ]
  },
  {
   "cell_type": "code",
   "execution_count": 4,
   "metadata": {},
   "outputs": [],
   "source": [
    "# prepare the configuration parameters for connecting to database\n",
    "config = {\n",
    "   'user': db_user,\n",
    "   'password': db_password,\n",
    "   'host': 'localhost',\n",
    "   'port': 3306,\n",
    "   'database': 'pluto_realty',\n",
    "   'raise_on_warnings': True                    \n",
    "}\n"
   ]
  },
  {
   "cell_type": "code",
   "execution_count": 5,
   "metadata": {},
   "outputs": [],
   "source": [
    "#connect to DB server\n",
    "db_connection = mysql.connector.connect(**config)"
   ]
  },
  {
   "cell_type": "code",
   "execution_count": 6,
   "metadata": {},
   "outputs": [],
   "source": [
    "#open a cursor (iterator) for stepping through the tuples in the resultset of an SQL query \n",
    "cur = db_connection.cursor()"
   ]
  },
  {
   "cell_type": "code",
   "execution_count": 7,
   "metadata": {},
   "outputs": [],
   "source": [
    "#Below are the required queries:\n",
    "#The queries are implementing and printing using pandas \n",
    "\n",
    "import pandas as pd"
   ]
  },
  {
   "cell_type": "code",
   "execution_count": 8,
   "metadata": {
    "scrolled": true
   },
   "outputs": [],
   "source": [
    "#1. Command for employee to insert their email\n",
    "email_insert = ('INSERT INTO employee_email (id, email) VALUES  (\"00001\",\"123asd@gmail.com\")')\n",
    "cur.execute(email_insert)\n"
   ]
  },
  {
   "cell_type": "code",
   "execution_count": 11,
   "metadata": {
    "scrolled": false
   },
   "outputs": [],
   "source": [
    "#2. Command for associate to insert leases\n",
    "insert_leases = ('INSERT INTO leases (lease_id, lease_date, monthly_rent, deposit, duration, start, finish) VALUES (\"40029\",\"2019-03-28\",3000,1000,\"3 months\",\"2019-03-28\",\"2019-06-28\");')\n",
    "cur.execute(insert_leases)\n"
   ]
  },
  {
   "cell_type": "code",
   "execution_count": 16,
   "metadata": {},
   "outputs": [],
   "source": [
    "#3. Command for company to manage adding new properties\n",
    "insert_prop = ('INSERT INTO rental_properties (id, owner_id, prop_type, area_sqr_footage, rent_month, rent_fee, status_prop, lease_id) VALUES (\"10024\",\"60001\",\"Commercial\",2224,3000,100, 1 ,\"40001\")')\n",
    "cur.execute(insert_prop)\n"
   ]
  },
  {
   "cell_type": "code",
   "execution_count": 24,
   "metadata": {},
   "outputs": [],
   "source": [
    "#3. Command for company to hire employee \n",
    "insert_p = ('INSERT INTO person (person_id, last_name, first_name, telephone, address, city, state, zipcode) VALUES (\"00523\",\"Williams\",\"Robin\",\"303-424-4771\",\"498888  Cambridge Place\",\"Sykesville\",\"MD\",\"21784\")')\n",
    "cur.execute(insert_p)\n",
    "\n",
    "insert_e = ('INSERT INTO employees (employee_id, roles, hired_date) VALUES (\"00523\",\"Associate\",\"2018-09-12\")')\n",
    "cur.execute(insert_e)"
   ]
  },
  {
   "cell_type": "code",
   "execution_count": 25,
   "metadata": {},
   "outputs": [
    {
     "data": {
      "text/plain": [
       "True"
      ]
     },
     "execution_count": 25,
     "metadata": {},
     "output_type": "execute_result"
    }
   ],
   "source": [
    "#close the cursor\n",
    "cur.close()"
   ]
  },
  {
   "cell_type": "code",
   "execution_count": 26,
   "metadata": {},
   "outputs": [],
   "source": [
    "#close the connection to the DB server\n",
    "db_connection.close()"
   ]
  },
  {
   "cell_type": "code",
   "execution_count": 27,
   "metadata": {},
   "outputs": [
    {
     "name": "stdout",
     "output_type": "stream",
     "text": [
      "2020-12-12 23:46:37.913195\n",
      "desktop-38srboc\\your daddy\n",
      "DESKTOP-38SRBOC\n",
      "\n",
      "Windows IP Configuration\n",
      "\n",
      "\n",
      "Ethernet adapter Ethernet:\n",
      "\n",
      "   Media State . . . . . . . . . . . : Media disconnected\n",
      "   Connection-specific DNS Suffix  . : \n",
      "\n",
      "Wireless LAN adapter Local Area Connection* 2:\n",
      "\n",
      "   Media State . . . . . . . . . . . : Media disconnected\n",
      "   Connection-specific DNS Suffix  . : \n",
      "\n",
      "Wireless LAN adapter Local Area Connection* 3:\n",
      "\n",
      "   Media State . . . . . . . . . . . : Media disconnected\n",
      "   Connection-specific DNS Suffix  . : \n",
      "\n",
      "Wireless LAN adapter Wi-Fi:\n",
      "\n",
      "   Connection-specific DNS Suffix  . : \n",
      "   Link-local IPv6 Address . . . . . : fe80::ac33:79b7:4b5b:a6c2%20\n",
      "   IPv4 Address. . . . . . . . . . . : 192.168.200.34\n",
      "   Subnet Mask . . . . . . . . . . . : 255.255.255.0\n",
      "   Default Gateway . . . . . . . . . : 192.168.200.1\n",
      "\n",
      "Ethernet adapter Bluetooth Network Connection 3:\n",
      "\n",
      "   Media State . . . . . . . . . . . : Media disconnected\n",
      "   Connection-specific DNS Suffix  . : \n",
      "{\n",
      "  \"shell_port\": 50123,\n",
      "  \"iopub_port\": 50124,\n",
      "  \"stdin_port\": 50125,\n",
      "  \"control_port\": 50127,\n",
      "  \"hb_port\": 50126,\n",
      "  \"ip\": \"127.0.0.1\",\n",
      "  \"key\": \"532208c3-75b40a2e4b41e90110d0bd73\",\n",
      "  \"transport\": \"tcp\",\n",
      "  \"signature_scheme\": \"hmac-sha256\",\n",
      "  \"kernel_name\": \"\"\n",
      "}\n",
      "\n",
      "Paste the above JSON into a file, and connect with:\n",
      "    $> jupyter <app> --existing <file>\n",
      "or, if you are local, you can connect with just:\n",
      "    $> jupyter <app> --existing kernel-121a5dde-a403-4f5d-8cdf-cee4da5a84ad.json\n",
      "or even just:\n",
      "    $> jupyter <app> --existing\n",
      "if this is the most recent Jupyter kernel you have started.\n"
     ]
    }
   ],
   "source": [
    "#capture host information\n",
    "import datetime\n",
    "print(datetime.datetime.now())\n",
    "!whoami\n",
    "!hostname\n",
    "#!ipconfig | grep 'IPv4 Address'\n",
    "#!ipconfig | grep 'DNS'\n",
    "!ipconfig\n",
    "%connect_info"
   ]
  },
  {
   "cell_type": "code",
   "execution_count": null,
   "metadata": {},
   "outputs": [],
   "source": []
  }
 ],
 "metadata": {
  "kernelspec": {
   "display_name": "Python 3",
   "language": "python",
   "name": "python3"
  },
  "language_info": {
   "codemirror_mode": {
    "name": "ipython",
    "version": 3
   },
   "file_extension": ".py",
   "mimetype": "text/x-python",
   "name": "python",
   "nbconvert_exporter": "python",
   "pygments_lexer": "ipython3",
   "version": "3.8.3"
  }
 },
 "nbformat": 4,
 "nbformat_minor": 2
}
