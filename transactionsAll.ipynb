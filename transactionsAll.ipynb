{
 "cells": [
  {
   "cell_type": "markdown",
   "metadata": {},
   "source": [
    "## TransactionsAll script\n",
    "### Query and reports for Project 1 \n",
    "#### Submitted by Student Thanh Nam Tran for CMSC461@UMBC (Fall '2020)\n",
    "\n"
   ]
  },
  {
   "cell_type": "code",
   "execution_count": 1,
   "metadata": {
    "scrolled": false
   },
   "outputs": [
    {
     "name": "stdout",
     "output_type": "stream",
     "text": [
      "Requirement already satisfied: mysql-connector-python in c:\\programdata\\anaconda3\\lib\\site-packages (8.0.21)\n",
      "Requirement already satisfied: protobuf>=3.0.0 in c:\\programdata\\anaconda3\\lib\\site-packages (from mysql-connector-python) (3.13.0)\n",
      "Requirement already satisfied: setuptools in c:\\programdata\\anaconda3\\lib\\site-packages (from protobuf>=3.0.0->mysql-connector-python) (49.2.0.post20200714)\n",
      "Requirement already satisfied: six>=1.9 in c:\\programdata\\anaconda3\\lib\\site-packages (from protobuf>=3.0.0->mysql-connector-python) (1.15.0)\n"
     ]
    }
   ],
   "source": [
    "!pip install mysql-connector-python"
   ]
  },
  {
   "cell_type": "code",
   "execution_count": 2,
   "metadata": {},
   "outputs": [],
   "source": [
    "import mysql.connector"
   ]
  },
  {
   "cell_type": "code",
   "execution_count": 3,
   "metadata": {},
   "outputs": [
    {
     "name": "stdout",
     "output_type": "stream",
     "text": [
      "Enter username········\n",
      "Enter password········\n"
     ]
    }
   ],
   "source": [
    "# get DB username and password from the standard input\n",
    "import getpass\n",
    "db_user = getpass.getpass('Enter username')\n",
    "db_password = getpass.getpass('Enter password')"
   ]
  },
  {
   "cell_type": "code",
   "execution_count": 4,
   "metadata": {},
   "outputs": [],
   "source": [
    "# prepare the configuration parameters for connecting to database\n",
    "config = {\n",
    "   'user': db_user,\n",
    "   'password': db_password,\n",
    "   'host': 'localhost',\n",
    "   'port': 3306,\n",
    "   'database': 'pluto_realty',\n",
    "   'raise_on_warnings': True                    \n",
    "}\n"
   ]
  },
  {
   "cell_type": "code",
   "execution_count": 5,
   "metadata": {},
   "outputs": [],
   "source": [
    "#connect to DB server\n",
    "db_connection = mysql.connector.connect(**config)"
   ]
  },
  {
   "cell_type": "code",
   "execution_count": 6,
   "metadata": {},
   "outputs": [],
   "source": [
    "#open a cursor (iterator) for stepping through the tuples in the resultset of an SQL query \n",
    "cur = db_connection.cursor()"
   ]
  },
  {
   "cell_type": "code",
   "execution_count": 7,
   "metadata": {},
   "outputs": [],
   "source": [
    "#Below are the required queries:\n",
    "#The queries are implementing and printing using pandas \n",
    "\n",
    "import pandas as pd"
   ]
  },
  {
   "cell_type": "code",
   "execution_count": 8,
   "metadata": {
    "scrolled": true
   },
   "outputs": [
    {
     "name": "stdout",
     "output_type": "stream",
     "text": [
      "   client_id\n",
      "0      00007\n",
      "1      00008\n",
      "2      00009\n",
      "3      00010\n",
      "4      00011\n",
      "5      00012\n",
      "6      00013\n",
      "7      00014\n",
      "8      00015\n",
      "9      00016\n",
      "10     00017\n",
      "11     00018\n",
      "12     00019\n",
      "13     00020\n",
      "14     00021\n"
     ]
    }
   ],
   "source": [
    "#1. List the names of all the unique clients.\n",
    "df = pd.read_sql('SELECT client_id FROM clients', con=db_connection)\n",
    "print(df)\n"
   ]
  },
  {
   "cell_type": "code",
   "execution_count": 9,
   "metadata": {
    "scrolled": false
   },
   "outputs": [
    {
     "name": "stdout",
     "output_type": "stream",
     "text": [
      "   first_name  sum(rental_properties.area_sqr_footage)\n",
      "0      Anabia                                  11576.0\n",
      "1        Anna                                   8000.0\n",
      "2      Bianka                                   2224.0\n",
      "3       Faiza                                    223.0\n",
      "4       Henna                                   3000.0\n",
      "5      Henna                                     323.0\n",
      "6        Izaa                                   6268.0\n",
      "7      Maisie                                   8443.0\n",
      "8      Marlie                                   8223.0\n",
      "9     Philip                                   17525.0\n",
      "10     Samira                                   6523.0\n"
     ]
    }
   ],
   "source": [
    "#2. Find the unique names of owners and total square footage of all the properties they own\n",
    "df2 = pd.read_sql('SELECT distinct first_name, sum(rental_properties.area_sqr_footage) from property_owner inner join rental_properties on property_owner.owner_id = rental_properties.owner_id  group by first_name order by first_name ', con=db_connection)\n",
    "print(df2)"
   ]
  },
  {
   "cell_type": "code",
   "execution_count": 10,
   "metadata": {},
   "outputs": [
    {
     "name": "stdout",
     "output_type": "stream",
     "text": [
      "  Asscociate_ID Rental_property_ID       TIME\n",
      "0         00001              10002 2014-03-26\n",
      "1         00002              20001 2014-03-26\n",
      "2         00003              20003 2014-03-26\n",
      "3         00001              30001 2014-03-26\n"
     ]
    }
   ],
   "source": [
    "#3. Find the properties shown by each associate in a given month. \n",
    "#Let the given month be March change parameter in the command below to see other month\n",
    "df3 = pd.read_sql('SELECT associates.id as Asscociate_ID, rental_properties.id as Rental_property_ID, prop_date_time as TIME FROM associates inner join rental_properties where associates.property_id = rental_properties.id and MONTH(prop_date_time) = \"03\"', con=db_connection)\n",
    "print(df3)\n"
   ]
  },
  {
   "cell_type": "code",
   "execution_count": 11,
   "metadata": {
    "scrolled": true
   },
   "outputs": [
    {
     "name": "stdout",
     "output_type": "stream",
     "text": [
      "  property_id  count\n",
      "0       30006      2\n"
     ]
    }
   ],
   "source": [
    "#4. Find the most popular properties (in terms of number of viewings in a given year).\n",
    "#Use year 2019 change parameter in the command below to see other years\n",
    "df4 = pd.read_sql('SELECT property_viewings.property_id, count(prop_view_id) as count FROM pluto_realty.prop_view_date inner join property_viewings on prop_view_id = property_viewing_id inner join rental_properties on rental_properties.id = property_viewings.property_id where YEAR(prop_view_date.date_time) = \"2019\" group by prop_view_id order by count desc LIMIT 1;', con=db_connection)\n",
    "print(df4)"
   ]
  },
  {
   "cell_type": "code",
   "execution_count": 12,
   "metadata": {},
   "outputs": [
    {
     "name": "stdout",
     "output_type": "stream",
     "text": [
      "   property_id  rent_month\n",
      "0        10001      3000.0\n",
      "1        10002      4000.0\n",
      "2        10003      2000.0\n",
      "3        10004      2200.0\n",
      "4        20001      5000.0\n",
      "5        20002      4000.0\n",
      "6        20003      6000.0\n",
      "7        20004      7200.0\n",
      "8        30001      1000.0\n",
      "9        30002      1000.0\n",
      "10       30003      1000.0\n",
      "11       30004      1200.0\n",
      "12       10005      3300.0\n",
      "13       10006      2500.0\n",
      "14       20005      6000.0\n",
      "15       20006      7200.0\n",
      "16       30005      1200.0\n",
      "17       30006      1200.0\n"
     ]
    }
   ],
   "source": [
    "#5. Find the total rent month due to each property owner.\n",
    "df5= pd.read_sql('SELECT property_owner.property_id, rent_month FROM pluto_realty.property_owner inner JOIN rental_properties on property_owner.property_id = rental_properties.id;', con=db_connection)\n",
    "print(df5)"
   ]
  },
  {
   "cell_type": "code",
   "execution_count": 13,
   "metadata": {},
   "outputs": [
    {
     "name": "stdout",
     "output_type": "stream",
     "text": [
      "  emp_id\n",
      "0  00001\n",
      "1  00004\n",
      "2  00005\n",
      "3  00006\n"
     ]
    }
   ],
   "source": [
    "#6. Find the unique names of associates supervised (directly or indirectly) by a given employee\n",
    "#Example: Let the supervior id be 00002, find unique names of associates supervised by 00002\n",
    "# change parameter in the command below to see other supervisor\n",
    "df6 = pd.read_sql('SELECT emp_id FROM pluto_realty.supervisor where spv_id =  \"00002\" ', con=db_connection)\n",
    "print(df6)\n"
   ]
  },
  {
   "cell_type": "code",
   "execution_count": 14,
   "metadata": {},
   "outputs": [
    {
     "name": "stdout",
     "output_type": "stream",
     "text": [
      "Empty DataFrame\n",
      "Columns: [owner_id]\n",
      "Index: []\n"
     ]
    }
   ],
   "source": [
    "#7. Find the unique names of owners that have a residential property in every city where Pat Doe\n",
    "# owns a commercial property.\n",
    "df7 = pd.read_sql('SELECT rental_properties.owner_id FROM pluto_realty.rental_properties inner join residential_prop on rental_properties.id = residential_prop.id inner join commercial_prop on rental_properties.id = commercial_prop.id inner join property_owner on property_owner.owner_id = rental_properties.owner_id where residential_prop.city = commercial_prop.city and first_name = \"Pat\" and last_name = \"Doe\" ', con=db_connection)\n",
    "print(df7)\n",
    "\n"
   ]
  },
  {
   "cell_type": "code",
   "execution_count": 15,
   "metadata": {},
   "outputs": [
    {
     "name": "stdout",
     "output_type": "stream",
     "text": [
      "      id  count(id)\n",
      "0  00004          2\n",
      "1  00005          2\n",
      "2  00006          1\n"
     ]
    }
   ],
   "source": [
    "#8. Find the top-3 partners with respect to number of properties leased in the current year.\n",
    "#Use year 2020  change parameter in the command below to see other years\n",
    "df8 = pd.read_sql('SELECT id, count(id) FROM pluto_realty.partners  inner join leases  on partners.lease_id = leases.lease_id where leases.start >= \"2019-00-00\" and leases.finish <= \"2020-00-00\" group by id', con=db_connection)\n",
    "print(df8)\n"
   ]
  },
  {
   "cell_type": "code",
   "execution_count": 17,
   "metadata": {},
   "outputs": [],
   "source": [
    "#9. Write a SQL function to compute the total management fees due to Pluto in the last 3 months\n",
    "\n",
    "# NOTE: IMPORTANT need to do this command before create function:\n",
    "trust = ('SET GLOBAL log_bin_trust_function_creators = 1;')\n",
    "cur.execute(trust)\n",
    "func = ('CREATE FUNCTION `3month_management_fee` (rent_fee float) RETURNS INTEGER BEGIN \tDECLARE cal_total float; \tDECLARE total float;   SELECT sum(rent_fee) as cal_total INTO cal_total from rental_properties;    SET total = 3*cal_total; RETURN total; END')\n",
    "cur.execute(func)        "
   ]
  },
  {
   "cell_type": "code",
   "execution_count": null,
   "metadata": {
    "scrolled": true
   },
   "outputs": [],
   "source": [
    "#10. Create a SQL trigger to automatically set to FALSE the advertisement flag of a property when it is\n",
    "# leased.\n",
    "DELIMITER USE `pluto_realty` DROP TRIGGER IF EXISTS advertisement; CREATE TRIGGER advertisement AFTER INSERT ON `rental_properties` FOR EACH ROW BEGIN \tIf lease_id IS NULL then SET status = 0; END$$ DELIMITER ;"
   ]
  },
  {
   "cell_type": "code",
   "execution_count": 16,
   "metadata": {},
   "outputs": [
    {
     "data": {
      "text/plain": [
       "True"
      ]
     },
     "execution_count": 16,
     "metadata": {},
     "output_type": "execute_result"
    }
   ],
   "source": [
    "#close the cursor\n",
    "cur.close()"
   ]
  },
  {
   "cell_type": "code",
   "execution_count": 17,
   "metadata": {},
   "outputs": [],
   "source": [
    "#close the connection to the DB server\n",
    "db_connection.close()"
   ]
  },
  {
   "cell_type": "code",
   "execution_count": 91,
   "metadata": {},
   "outputs": [
    {
     "name": "stdout",
     "output_type": "stream",
     "text": [
      "2020-12-12 22:54:04.228016\n",
      "desktop-38srboc\\your daddy\n",
      "DESKTOP-38SRBOC\n",
      "\n",
      "Windows IP Configuration\n",
      "\n",
      "\n",
      "Ethernet adapter Ethernet:\n",
      "\n",
      "   Media State . . . . . . . . . . . : Media disconnected\n",
      "   Connection-specific DNS Suffix  . : \n",
      "\n",
      "Wireless LAN adapter Local Area Connection* 2:\n",
      "\n",
      "   Media State . . . . . . . . . . . : Media disconnected\n",
      "   Connection-specific DNS Suffix  . : \n",
      "\n",
      "Wireless LAN adapter Local Area Connection* 3:\n",
      "\n",
      "   Media State . . . . . . . . . . . : Media disconnected\n",
      "   Connection-specific DNS Suffix  . : \n",
      "\n",
      "Wireless LAN adapter Wi-Fi:\n",
      "\n",
      "   Connection-specific DNS Suffix  . : \n",
      "   Link-local IPv6 Address . . . . . : fe80::c852:7814:4dbd:8bc5%20\n",
      "   IPv4 Address. . . . . . . . . . . : 192.168.200.32\n",
      "   Subnet Mask . . . . . . . . . . . : 255.255.255.0\n",
      "   Default Gateway . . . . . . . . . : 192.168.200.1\n",
      "\n",
      "Ethernet adapter Bluetooth Network Connection 3:\n",
      "\n",
      "   Media State . . . . . . . . . . . : Media disconnected\n",
      "   Connection-specific DNS Suffix  . : \n",
      "{\n",
      "  \"shell_port\": 50122,\n",
      "  \"iopub_port\": 50123,\n",
      "  \"stdin_port\": 50124,\n",
      "  \"control_port\": 50126,\n",
      "  \"hb_port\": 50125,\n",
      "  \"ip\": \"127.0.0.1\",\n",
      "  \"key\": \"d7821ae7-e568492b359eab28191c40a1\",\n",
      "  \"transport\": \"tcp\",\n",
      "  \"signature_scheme\": \"hmac-sha256\",\n",
      "  \"kernel_name\": \"\"\n",
      "}\n",
      "\n",
      "Paste the above JSON into a file, and connect with:\n",
      "    $> jupyter <app> --existing <file>\n",
      "or, if you are local, you can connect with just:\n",
      "    $> jupyter <app> --existing kernel-101da11a-6301-47cb-8a65-b75c8d257c53.json\n",
      "or even just:\n",
      "    $> jupyter <app> --existing\n",
      "if this is the most recent Jupyter kernel you have started.\n"
     ]
    }
   ],
   "source": [
    "#capture host information\n",
    "import datetime\n",
    "print(datetime.datetime.now())\n",
    "!whoami\n",
    "!hostname\n",
    "#!ipconfig | grep 'IPv4 Address'\n",
    "#!ipconfig | grep 'DNS'\n",
    "!ipconfig\n",
    "%connect_info"
   ]
  }
 ],
 "metadata": {
  "kernelspec": {
   "display_name": "Python 3",
   "language": "python",
   "name": "python3"
  },
  "language_info": {
   "codemirror_mode": {
    "name": "ipython",
    "version": 3
   },
   "file_extension": ".py",
   "mimetype": "text/x-python",
   "name": "python",
   "nbconvert_exporter": "python",
   "pygments_lexer": "ipython3",
   "version": "3.8.3"
  }
 },
 "nbformat": 4,
 "nbformat_minor": 2
}
